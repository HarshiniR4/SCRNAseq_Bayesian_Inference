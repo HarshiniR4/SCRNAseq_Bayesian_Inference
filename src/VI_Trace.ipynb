{
 "cells": [
  {
   "cell_type": "code",
   "execution_count": 1,
   "id": "386e7ab5-f50e-4f94-a7b9-d39a334ee630",
   "metadata": {},
   "outputs": [],
   "source": [
    "# matrix with all the gene expression values for a particular condition "
   ]
  },
  {
   "cell_type": "markdown",
   "id": "99263728-83db-418a-990f-6bd36fe5d75b",
   "metadata": {},
   "source": [
    "genes, gene lengths, \n",
    "observed- gene expressionn values\n",
    "for neg bino reg model - need parameter for mean expression level and dispersion parameter \n",
    "mean expression level can be stratified by catogery"
   ]
  },
  {
   "cell_type": "code",
   "execution_count": 1,
   "id": "636f7377-33df-4ba5-8492-17a8cb4d69f1",
   "metadata": {},
   "outputs": [
    {
     "name": "stderr",
     "output_type": "stream",
     "text": [
      "WARNING (pytensor.tensor.blas): Using NumPy C-API based implementation for BLAS functions.\n"
     ]
    },
    {
     "name": "stdout",
     "output_type": "stream",
     "text": [
      "Linker: py\n"
     ]
    }
   ],
   "source": [
    "import os\n",
    "\n",
    "# These MUST come before importing pymc or pytensor\n",
    "os.environ[\"PYTENSOR_FLAGS\"] = \"optimizer_excluding=constant_folding,mode=FAST_RUN,linker=py\"\n",
    "os.environ[\"PYTENSOR_WARN__C_COMPILE\"] = \"False\"\n",
    "\n",
    "import pytensor\n",
    "pytensor.config.cxx = \"\"\n",
    "\n",
    "# Now import pymc\n",
    "import pymc as pm\n",
    "import arviz as az\n",
    "print(\"Linker:\", pytensor.config.linker)\n",
    "\n",
    "import numpy as np\n",
    "import pandas as pd"
   ]
  },
  {
   "cell_type": "code",
   "execution_count": 2,
   "id": "943f545f-a9ca-4b1f-a63d-709e629aefef",
   "metadata": {},
   "outputs": [],
   "source": [
    "import scanpy as sc\n",
    "import matplotlib.pyplot  as plt"
   ]
  },
  {
   "cell_type": "code",
   "execution_count": 3,
   "id": "e70be9fa-d485-45a8-8b31-85c1dfc96e66",
   "metadata": {},
   "outputs": [
    {
     "name": "stdout",
     "output_type": "stream",
     "text": [
      "PyMC version: 5.12.0\n"
     ]
    }
   ],
   "source": [
    "import pymc as pm\n",
    "print(\"PyMC version:\", pm.__version__)\n"
   ]
  },
  {
   "cell_type": "code",
   "execution_count": 4,
   "id": "4847a315-7f10-4cf3-93fa-802fd61833c9",
   "metadata": {},
   "outputs": [],
   "source": [
    "adata = sc.read(\"merged_dataset.h5ad\")"
   ]
  },
  {
   "cell_type": "code",
   "execution_count": 5,
   "id": "f19b5388-98bb-4b21-81c8-9d280743fe62",
   "metadata": {},
   "outputs": [
    {
     "name": "stdout",
     "output_type": "stream",
     "text": [
      "AnnData object with n_obs × n_vars = 186224 × 39241\n",
      "    obs: 'AvgSpotLen', 'Bases', 'Bytes', 'original_index'\n"
     ]
    }
   ],
   "source": [
    "# Print a summary of the dataset\n",
    "print(adata)"
   ]
  },
  {
   "cell_type": "code",
   "execution_count": 6,
   "id": "15408efb-8356-4f73-8e73-fb8f2f390b06",
   "metadata": {},
   "outputs": [],
   "source": [
    "# adata_sub = adata[:500, :100].copy()\n",
    "adata_sub = adata[:1000, :500].copy()\n",
    "\n",
    "# Extract raw count matrix (dense format)\n",
    "# Convert to dense array if needed\n",
    "if not isinstance(adata_sub.X, np.ndarray):\n",
    "    counts = adata_sub.X.toarray()\n",
    "else:\n",
    "    counts = adata_sub.X\n",
    "# Transpose to get (n_genes, n_cells)\n",
    "observed_counts = counts.T.astype(int)\n",
    "n_genes, n_conditions = observed_counts.shape  # \"conditions\" are cells"
   ]
  },
  {
   "cell_type": "code",
   "execution_count": 7,
   "id": "20d5bdda-381d-480a-a4e5-590eed23663b",
   "metadata": {},
   "outputs": [],
   "source": [
    "# Simulate realistic sequencing depth if NaN\n",
    "if 'Bases' in adata_sub.obs.columns:\n",
    "    # Generate simulated values for missing entries (e.g., log-normal)\n",
    "    missing_mask = adata_sub.obs['Bases'].isna()\n",
    "    simulated_bases = np.random.lognormal(mean=10, sigma=0.5, size=missing_mask.sum())\n",
    "    adata_sub.obs.loc[missing_mask, 'Bases'] = simulated_bases\n",
    "\n",
    "    # Convert to numeric and drop any remaining invalids just in case\n",
    "    adata_sub.obs['Bases'] = pd.to_numeric(adata_sub.obs['Bases'], errors='coerce')\n",
    "else:\n",
    "    # Add the column entirely if it doesn't exist\n",
    "    adata_sub.obs['Bases'] = np.random.lognormal(mean=10, sigma=0.5, size=adata_sub.n_obs)"
   ]
  },
  {
   "cell_type": "code",
   "execution_count": 8,
   "id": "ceb938b4-5837-4c68-8f3f-b2ebeab8cdbc",
   "metadata": {},
   "outputs": [],
   "source": [
    "# Simulate gene lengths and sequencing depths if not available\n",
    "gene_lengths = np.random.uniform(1000, 3000, size=n_genes)\n",
    "seq_depth = np.median(adata_sub.obs['Bases']) if 'Bases' in adata_sub.obs else 1e4"
   ]
  },
  {
   "cell_type": "code",
   "execution_count": 9,
   "id": "d5be15ef-2331-4fb3-bfa3-4fe97ea08b90",
   "metadata": {},
   "outputs": [],
   "source": [
    "gene_lengths = np.array(gene_lengths)\n",
    "seq_depth = float(seq_depth) "
   ]
  },
  {
   "cell_type": "code",
   "execution_count": 10,
   "id": "26018e5a-c44b-458a-a047-b7f4de4afb79",
   "metadata": {},
   "outputs": [],
   "source": [
    "ref_seq_depth = 1e5\n",
    "ref_gene_length = 2000.0"
   ]
  },
  {
   "cell_type": "code",
   "execution_count": 11,
   "id": "944cc211-602f-48cc-bffc-e7c3679bcf48",
   "metadata": {},
   "outputs": [
    {
     "data": {
      "text/plain": [
       "31656.051088214528"
      ]
     },
     "execution_count": 11,
     "metadata": {},
     "output_type": "execute_result"
    }
   ],
   "source": [
    "seq_depth"
   ]
  },
  {
   "cell_type": "code",
   "execution_count": 13,
   "id": "c4a3f7c5-bb4b-4158-b781-4e6897ecce72",
   "metadata": {},
   "outputs": [
    {
     "name": "stderr",
     "output_type": "stream",
     "text": [
      "/scratch/hr2547/myenv/lib64/python3.9/site-packages/pymc/data.py:434: UserWarning: The `mutable` kwarg was not specified. Before v4.1.0 it defaulted to `pm.Data(mutable=True)`, which is equivalent to using `pm.MutableData()`. In v4.1.0 the default changed to `pm.Data(mutable=False)`, equivalent to `pm.ConstantData`. Use `pm.ConstantData`/`pm.MutableData` or pass `pm.Data(..., mutable=False/True)` to avoid this warning.\n",
      "  warnings.warn(\n",
      "/scratch/hr2547/myenv/lib64/python3.9/site-packages/pytensor/tensor/rewriting/elemwise.py:1030: UserWarning: Loop fusion failed because the resulting node would exceed the kernel argument limit.\n",
      "  warn(\n"
     ]
    },
    {
     "data": {
      "text/html": [
       "\n",
       "<style>\n",
       "    /* Turns off some styling */\n",
       "    progress {\n",
       "        /* gets rid of default border in Firefox and Opera. */\n",
       "        border: none;\n",
       "        /* Needs to be in here for Safari polyfill so background images work as expected. */\n",
       "        background-size: auto;\n",
       "    }\n",
       "    progress:not([value]), progress:not([value])::-webkit-progress-bar {\n",
       "        background: repeating-linear-gradient(45deg, #7e7e7e, #7e7e7e 10px, #5c5c5c 10px, #5c5c5c 20px);\n",
       "    }\n",
       "    .progress-bar-interrupted, .progress-bar-interrupted::-webkit-progress-bar {\n",
       "        background: #F44336;\n",
       "    }\n",
       "</style>\n"
      ],
      "text/plain": [
       "<IPython.core.display.HTML object>"
      ]
     },
     "metadata": {},
     "output_type": "display_data"
    },
    {
     "data": {
      "text/html": [
       "\n",
       "    <div>\n",
       "      <progress value='200000' class='' max='200000' style='width:300px; height:20px; vertical-align: middle;'></progress>\n",
       "      100.00% [200000/200000 4:52:51&lt;00:00 Average Loss = 323.78]\n",
       "    </div>\n",
       "    "
      ],
      "text/plain": [
       "<IPython.core.display.HTML object>"
      ]
     },
     "metadata": {},
     "output_type": "display_data"
    },
    {
     "name": "stderr",
     "output_type": "stream",
     "text": [
      "Finished [100%]: Average Loss = 323.9\n",
      "/scratch/hr2547/myenv/lib64/python3.9/site-packages/pymc/backends/arviz.py:61: UserWarning: Could not extract data from symbolic observation obs\n",
      "  warnings.warn(f\"Could not extract data from symbolic observation {obs}\")\n"
     ]
    }
   ],
   "source": [
    "import pymc as pm\n",
    "import numpy as np\n",
    "\n",
    "# Assume `observed_counts` is shape (n_genes, n_conditions)\n",
    "n_genes, n_conditions = observed_counts.shape\n",
    "counts_flat = observed_counts.astype(\"float32\").flatten()\n",
    "gene_idx = np.repeat(np.arange(n_genes), n_conditions).astype(\"int32\")\n",
    "cond_idx = np.tile(np.arange(n_conditions), n_genes).astype(\"int32\")\n",
    "gene_lengths = gene_lengths.astype(\"float32\")\n",
    "\n",
    "# Minibatch input\n",
    "batch_size = 1024\n",
    "minibatch_data = {\n",
    "    \"counts\": pm.Minibatch(counts_flat, batch_size=batch_size),\n",
    "    \"gene_idx\": pm.Minibatch(gene_idx, batch_size=batch_size),\n",
    "    \"cond_idx\": pm.Minibatch(cond_idx, batch_size=batch_size),\n",
    "}\n",
    "\n",
    "with pm.Model() as model_vi_mb:\n",
    "    # Shared arrays for symbolic indexing\n",
    "    gene_lengths_shared = pm.Data(\"gene_lengths_shared\", gene_lengths)\n",
    "\n",
    "    # Priors\n",
    "    mu_gene = pm.Normal(\"mu_gene\", mu=2.0, sigma=1.0)\n",
    "    sigma_gene = pm.HalfNormal(\"sigma_gene\", sigma=1.0)\n",
    "    z_gene = pm.Normal(\"z_gene\", mu=0, sigma=1, shape=n_genes)\n",
    "    gene_log_expression = pm.Deterministic(\"gene_log_expression\", mu_gene + sigma_gene * z_gene)\n",
    "\n",
    "    mu_cond = pm.Normal(\"mu_cond\", mu=0.0, sigma=1.0)\n",
    "    sigma_cond = pm.HalfNormal(\"sigma_cond\", sigma=1.0)\n",
    "    z_cond = pm.Normal(\"z_cond\", mu=0, sigma=1, shape=n_conditions)\n",
    "    condition_intercepts_log = pm.Deterministic(\"condition_intercepts_log\", mu_cond + sigma_cond * z_cond)\n",
    "\n",
    "    alpha = pm.HalfCauchy(\"alpha\", beta=2)\n",
    "\n",
    "    # Compute log_mu symbolically using minibatched indices\n",
    "    log_mu = gene_log_expression[minibatch_data[\"gene_idx\"]] + \\\n",
    "             condition_intercepts_log[minibatch_data[\"cond_idx\"]]\n",
    "    log_mu += np.log(seq_depth / ref_seq_depth)\n",
    "    log_mu += pm.math.log(gene_lengths_shared[minibatch_data[\"gene_idx\"]] / ref_gene_length)\n",
    "    mu = pm.Deterministic(\"mu\", pm.math.exp(log_mu))\n",
    "\n",
    "    # Likelihood\n",
    "    pm.NegativeBinomial(\"obs\", mu=mu, alpha=alpha, observed=minibatch_data[\"counts\"])\n",
    "\n",
    "    # Variational Inference (Mean-field for speed)\n",
    "    approx = pm.fit(\n",
    "        n=200_000,\n",
    "        method=\"advi\",\n",
    "        callbacks=[pm.callbacks.CheckParametersConvergence()],\n",
    "        progressbar=True\n",
    "    )\n",
    "\n",
    "    trace_vi = approx.sample(draws=1000)\n"
   ]
  },
  {
   "cell_type": "code",
   "execution_count": 15,
   "id": "e1fade92-1005-47fa-a3ba-432b11ab3f69",
   "metadata": {},
   "outputs": [
    {
     "name": "stderr",
     "output_type": "stream",
     "text": [
      "arviz - WARNING - Shape validation failed: input_shape: (1, 1000), minimum_shape: (chains=2, draws=4)\n"
     ]
    },
    {
     "data": {
      "text/html": [
       "<div>\n",
       "<style scoped>\n",
       "    .dataframe tbody tr th:only-of-type {\n",
       "        vertical-align: middle;\n",
       "    }\n",
       "\n",
       "    .dataframe tbody tr th {\n",
       "        vertical-align: top;\n",
       "    }\n",
       "\n",
       "    .dataframe thead th {\n",
       "        text-align: right;\n",
       "    }\n",
       "</style>\n",
       "<table border=\"1\" class=\"dataframe\">\n",
       "  <thead>\n",
       "    <tr style=\"text-align: right;\">\n",
       "      <th></th>\n",
       "      <th>mean</th>\n",
       "      <th>sd</th>\n",
       "      <th>hdi_3%</th>\n",
       "      <th>hdi_97%</th>\n",
       "      <th>mcse_mean</th>\n",
       "      <th>mcse_sd</th>\n",
       "      <th>ess_bulk</th>\n",
       "      <th>ess_tail</th>\n",
       "      <th>r_hat</th>\n",
       "    </tr>\n",
       "  </thead>\n",
       "  <tbody>\n",
       "    <tr>\n",
       "      <th>mu_gene</th>\n",
       "      <td>2.568</td>\n",
       "      <td>5.320000e-01</td>\n",
       "      <td>1.629</td>\n",
       "      <td>3.618</td>\n",
       "      <td>0.018</td>\n",
       "      <td>0.013</td>\n",
       "      <td>845.0</td>\n",
       "      <td>796.0</td>\n",
       "      <td>NaN</td>\n",
       "    </tr>\n",
       "    <tr>\n",
       "      <th>z_gene[0]</th>\n",
       "      <td>0.073</td>\n",
       "      <td>1.036000e+00</td>\n",
       "      <td>-1.996</td>\n",
       "      <td>1.831</td>\n",
       "      <td>0.033</td>\n",
       "      <td>0.024</td>\n",
       "      <td>979.0</td>\n",
       "      <td>896.0</td>\n",
       "      <td>NaN</td>\n",
       "    </tr>\n",
       "    <tr>\n",
       "      <th>z_gene[1]</th>\n",
       "      <td>0.031</td>\n",
       "      <td>1.053000e+00</td>\n",
       "      <td>-1.905</td>\n",
       "      <td>1.963</td>\n",
       "      <td>0.034</td>\n",
       "      <td>0.024</td>\n",
       "      <td>977.0</td>\n",
       "      <td>950.0</td>\n",
       "      <td>NaN</td>\n",
       "    </tr>\n",
       "    <tr>\n",
       "      <th>z_gene[2]</th>\n",
       "      <td>-0.008</td>\n",
       "      <td>1.136000e+00</td>\n",
       "      <td>-2.124</td>\n",
       "      <td>2.188</td>\n",
       "      <td>0.036</td>\n",
       "      <td>0.025</td>\n",
       "      <td>1012.0</td>\n",
       "      <td>1024.0</td>\n",
       "      <td>NaN</td>\n",
       "    </tr>\n",
       "    <tr>\n",
       "      <th>z_gene[3]</th>\n",
       "      <td>0.017</td>\n",
       "      <td>1.106000e+00</td>\n",
       "      <td>-1.947</td>\n",
       "      <td>2.125</td>\n",
       "      <td>0.032</td>\n",
       "      <td>0.024</td>\n",
       "      <td>1204.0</td>\n",
       "      <td>954.0</td>\n",
       "      <td>NaN</td>\n",
       "    </tr>\n",
       "    <tr>\n",
       "      <th>...</th>\n",
       "      <td>...</td>\n",
       "      <td>...</td>\n",
       "      <td>...</td>\n",
       "      <td>...</td>\n",
       "      <td>...</td>\n",
       "      <td>...</td>\n",
       "      <td>...</td>\n",
       "      <td>...</td>\n",
       "      <td>...</td>\n",
       "    </tr>\n",
       "    <tr>\n",
       "      <th>mu[1019]</th>\n",
       "      <td>17.975</td>\n",
       "      <td>5.851700e+01</td>\n",
       "      <td>0.003</td>\n",
       "      <td>42.181</td>\n",
       "      <td>1.890</td>\n",
       "      <td>1.337</td>\n",
       "      <td>1012.0</td>\n",
       "      <td>930.0</td>\n",
       "      <td>NaN</td>\n",
       "    </tr>\n",
       "    <tr>\n",
       "      <th>mu[1020]</th>\n",
       "      <td>88.836</td>\n",
       "      <td>2.122448e+03</td>\n",
       "      <td>0.042</td>\n",
       "      <td>38.692</td>\n",
       "      <td>66.991</td>\n",
       "      <td>47.383</td>\n",
       "      <td>963.0</td>\n",
       "      <td>936.0</td>\n",
       "      <td>NaN</td>\n",
       "    </tr>\n",
       "    <tr>\n",
       "      <th>mu[1021]</th>\n",
       "      <td>493392.323</td>\n",
       "      <td>1.560197e+07</td>\n",
       "      <td>0.002</td>\n",
       "      <td>40.476</td>\n",
       "      <td>492388.017</td>\n",
       "      <td>348272.099</td>\n",
       "      <td>873.0</td>\n",
       "      <td>942.0</td>\n",
       "      <td>NaN</td>\n",
       "    </tr>\n",
       "    <tr>\n",
       "      <th>mu[1022]</th>\n",
       "      <td>19.661</td>\n",
       "      <td>1.284300e+02</td>\n",
       "      <td>0.001</td>\n",
       "      <td>42.415</td>\n",
       "      <td>4.029</td>\n",
       "      <td>2.865</td>\n",
       "      <td>957.0</td>\n",
       "      <td>812.0</td>\n",
       "      <td>NaN</td>\n",
       "    </tr>\n",
       "    <tr>\n",
       "      <th>mu[1023]</th>\n",
       "      <td>13.933</td>\n",
       "      <td>2.802400e+01</td>\n",
       "      <td>0.036</td>\n",
       "      <td>38.912</td>\n",
       "      <td>0.896</td>\n",
       "      <td>0.636</td>\n",
       "      <td>1068.0</td>\n",
       "      <td>1023.0</td>\n",
       "      <td>NaN</td>\n",
       "    </tr>\n",
       "  </tbody>\n",
       "</table>\n",
       "<p>4029 rows × 9 columns</p>\n",
       "</div>"
      ],
      "text/plain": [
       "                 mean            sd  hdi_3%  hdi_97%   mcse_mean     mcse_sd  \\\n",
       "mu_gene         2.568  5.320000e-01   1.629    3.618       0.018       0.013   \n",
       "z_gene[0]       0.073  1.036000e+00  -1.996    1.831       0.033       0.024   \n",
       "z_gene[1]       0.031  1.053000e+00  -1.905    1.963       0.034       0.024   \n",
       "z_gene[2]      -0.008  1.136000e+00  -2.124    2.188       0.036       0.025   \n",
       "z_gene[3]       0.017  1.106000e+00  -1.947    2.125       0.032       0.024   \n",
       "...               ...           ...     ...      ...         ...         ...   \n",
       "mu[1019]       17.975  5.851700e+01   0.003   42.181       1.890       1.337   \n",
       "mu[1020]       88.836  2.122448e+03   0.042   38.692      66.991      47.383   \n",
       "mu[1021]   493392.323  1.560197e+07   0.002   40.476  492388.017  348272.099   \n",
       "mu[1022]       19.661  1.284300e+02   0.001   42.415       4.029       2.865   \n",
       "mu[1023]       13.933  2.802400e+01   0.036   38.912       0.896       0.636   \n",
       "\n",
       "           ess_bulk  ess_tail  r_hat  \n",
       "mu_gene       845.0     796.0    NaN  \n",
       "z_gene[0]     979.0     896.0    NaN  \n",
       "z_gene[1]     977.0     950.0    NaN  \n",
       "z_gene[2]    1012.0    1024.0    NaN  \n",
       "z_gene[3]    1204.0     954.0    NaN  \n",
       "...             ...       ...    ...  \n",
       "mu[1019]     1012.0     930.0    NaN  \n",
       "mu[1020]      963.0     936.0    NaN  \n",
       "mu[1021]      873.0     942.0    NaN  \n",
       "mu[1022]      957.0     812.0    NaN  \n",
       "mu[1023]     1068.0    1023.0    NaN  \n",
       "\n",
       "[4029 rows x 9 columns]"
      ]
     },
     "execution_count": 15,
     "metadata": {},
     "output_type": "execute_result"
    }
   ],
   "source": [
    "az.summary(trace_vi)"
   ]
  },
  {
   "cell_type": "code",
   "execution_count": 16,
   "id": "4d7ff4a3-9f2d-4128-8124-9f722390b829",
   "metadata": {},
   "outputs": [
    {
     "data": {
      "image/png": "[encoded data removed]",
      "text/plain": [
       "<Figure size 640x480 with 1 Axes>"
      ]
     },
     "metadata": {},
     "output_type": "display_data"
    }
   ],
   "source": [
    "# --------------------------\n",
    "# ELBO Plot for VI\n",
    "# --------------------------\n",
    "plt.plot(approx.hist)\n",
    "plt.title(\"ELBO Loss Curve (VI)\")\n",
    "plt.xlabel(\"Iteration\")\n",
    "plt.ylabel(\"ELBO\")\n",
    "plt.tight_layout()\n",
    "plt.show()"
   ]
  },
  {
   "cell_type": "code",
   "execution_count": 17,
   "id": "71af96a0-b6b9-4317-b8c4-459dd61abed5",
   "metadata": {},
   "outputs": [
    {
     "data": {
      "text/plain": [
       "'trace_vi.nc'"
      ]
     },
     "execution_count": 17,
     "metadata": {},
     "output_type": "execute_result"
    }
   ],
   "source": [
    "az.to_netcdf(trace_vi, \"trace_vi.nc\")"
   ]
  },
  {
   "cell_type": "code",
   "execution_count": null,
   "id": "7ae4e5f6-8376-402e-8c55-ca97c18f5b6c",
   "metadata": {},
   "outputs": [],
   "source": []
  }
 ],
 "metadata": {
  "kernelspec": {
   "display_name": "Python (myenv)",
   "language": "python",
   "name": "myenv"
  },
  "language_info": {
   "codemirror_mode": {
    "name": "ipython",
    "version": 3
   },
   "file_extension": ".py",
   "mimetype": "text/x-python",
   "name": "python",
   "nbconvert_exporter": "python",
   "pygments_lexer": "ipython3",
   "version": "3.9.16"
  }
 },
 "nbformat": 4,
 "nbformat_minor": 5
}
