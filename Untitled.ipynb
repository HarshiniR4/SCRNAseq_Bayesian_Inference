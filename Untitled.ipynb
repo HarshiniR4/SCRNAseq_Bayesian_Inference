{
 "cells": [
  {
   "cell_type": "code",
   "execution_count": 1,
   "id": "386e7ab5-f50e-4f94-a7b9-d39a334ee630",
   "metadata": {},
   "outputs": [],
   "source": [
    "# matrix with all the gene expression values for a particular condition "
   ]
  },
  {
   "cell_type": "markdown",
   "id": "99263728-83db-418a-990f-6bd36fe5d75b",
   "metadata": {},
   "source": [
    "genes, gene lengths, \n",
    "observed- gene expressionn values\n",
    "for neg bino reg model - need parameter for mean expression level and dispersion parameter \n",
    "mean expression level can be stratified by catogery"
   ]
  },
  {
   "cell_type": "code",
   "execution_count": 1,
   "id": "636f7377-33df-4ba5-8492-17a8cb4d69f1",
   "metadata": {},
   "outputs": [
    {
     "name": "stderr",
     "output_type": "stream",
     "text": [
      "WARNING (pytensor.tensor.blas): Using NumPy C-API based implementation for BLAS functions.\n"
     ]
    },
    {
     "name": "stdout",
     "output_type": "stream",
     "text": [
      "Linker: py\n"
     ]
    }
   ],
   "source": [
    "import os\n",
    "\n",
    "# These MUST come before importing pymc or pytensor\n",
    "os.environ[\"PYTENSOR_FLAGS\"] = \"optimizer_excluding=constant_folding,mode=FAST_RUN,linker=py\"\n",
    "os.environ[\"PYTENSOR_WARN__C_COMPILE\"] = \"False\"\n",
    "\n",
    "import pytensor\n",
    "pytensor.config.cxx = \"\"\n",
    "\n",
    "# Now import pymc\n",
    "import pymc as pm\n",
    "import arviz as az\n",
    "print(\"Linker:\", pytensor.config.linker)\n",
    "\n",
    "import numpy as np\n",
    "import pandas as pd"
   ]
  },
  {
   "cell_type": "code",
   "execution_count": 2,
   "id": "943f545f-a9ca-4b1f-a63d-709e629aefef",
   "metadata": {},
   "outputs": [],
   "source": [
    "import scanpy as sc\n",
    "import matplotlib.pyplot  as plt"
   ]
  },
  {
   "cell_type": "code",
   "execution_count": 3,
   "id": "e70be9fa-d485-45a8-8b31-85c1dfc96e66",
   "metadata": {},
   "outputs": [
    {
     "name": "stdout",
     "output_type": "stream",
     "text": [
      "PyMC version: 5.12.0\n"
     ]
    }
   ],
   "source": [
    "import pymc as pm\n",
    "print(\"PyMC version:\", pm.__version__)\n"
   ]
  },
  {
   "cell_type": "code",
   "execution_count": 4,
   "id": "4847a315-7f10-4cf3-93fa-802fd61833c9",
   "metadata": {},
   "outputs": [],
   "source": [
    "adata = sc.read(\"merged_dataset.h5ad\")"
   ]
  },
  {
   "cell_type": "code",
   "execution_count": 5,
   "id": "f19b5388-98bb-4b21-81c8-9d280743fe62",
   "metadata": {},
   "outputs": [
    {
     "name": "stdout",
     "output_type": "stream",
     "text": [
      "AnnData object with n_obs × n_vars = 186224 × 39241\n",
      "    obs: 'AvgSpotLen', 'Bases', 'Bytes', 'original_index'\n"
     ]
    }
   ],
   "source": [
    "# Print a summary of the dataset\n",
    "print(adata)"
   ]
  },
  {
   "cell_type": "code",
   "execution_count": 6,
   "id": "15408efb-8356-4f73-8e73-fb8f2f390b06",
   "metadata": {},
   "outputs": [],
   "source": [
    "# adata_sub = adata[:500, :100].copy()\n",
    "adata_sub = adata[:1000, :500].copy()\n",
    "\n",
    "# Extract raw count matrix (dense format)\n",
    "# Convert to dense array if needed\n",
    "if not isinstance(adata_sub.X, np.ndarray):\n",
    "    counts = adata_sub.X.toarray()\n",
    "else:\n",
    "    counts = adata_sub.X\n",
    "# Transpose to get (n_genes, n_cells)\n",
    "observed_counts = counts.T.astype(int)\n",
    "n_genes, n_conditions = observed_counts.shape  # \"conditions\" are cells"
   ]
  },
  {
   "cell_type": "code",
   "execution_count": 7,
   "id": "20d5bdda-381d-480a-a4e5-590eed23663b",
   "metadata": {},
   "outputs": [],
   "source": [
    "# Simulate realistic sequencing depth if NaN\n",
    "if 'Bases' in adata_sub.obs.columns:\n",
    "    # Generate simulated values for missing entries (e.g., log-normal)\n",
    "    missing_mask = adata_sub.obs['Bases'].isna()\n",
    "    simulated_bases = np.random.lognormal(mean=10, sigma=0.5, size=missing_mask.sum())\n",
    "    adata_sub.obs.loc[missing_mask, 'Bases'] = simulated_bases\n",
    "\n",
    "    # Convert to numeric and drop any remaining invalids just in case\n",
    "    adata_sub.obs['Bases'] = pd.to_numeric(adata_sub.obs['Bases'], errors='coerce')\n",
    "else:\n",
    "    # Add the column entirely if it doesn't exist\n",
    "    adata_sub.obs['Bases'] = np.random.lognormal(mean=10, sigma=0.5, size=adata_sub.n_obs)"
   ]
  },
  {
   "cell_type": "code",
   "execution_count": 8,
   "id": "ceb938b4-5837-4c68-8f3f-b2ebeab8cdbc",
   "metadata": {},
   "outputs": [],
   "source": [
    "# Simulate gene lengths and sequencing depths if not available\n",
    "gene_lengths = np.random.uniform(1000, 3000, size=n_genes)\n",
    "seq_depth = np.median(adata_sub.obs['Bases']) if 'Bases' in adata_sub.obs else 1e4"
   ]
  },
  {
   "cell_type": "code",
   "execution_count": 9,
   "id": "d5be15ef-2331-4fb3-bfa3-4fe97ea08b90",
   "metadata": {},
   "outputs": [],
   "source": [
    "gene_lengths = np.array(gene_lengths)\n",
    "seq_depth = float(seq_depth) "
   ]
  },
  {
   "cell_type": "code",
   "execution_count": 10,
   "id": "26018e5a-c44b-458a-a047-b7f4de4afb79",
   "metadata": {},
   "outputs": [],
   "source": [
    "ref_seq_depth = 1e5\n",
    "ref_gene_length = 2000.0"
   ]
  },
  {
   "cell_type": "code",
   "execution_count": 11,
   "id": "944cc211-602f-48cc-bffc-e7c3679bcf48",
   "metadata": {},
   "outputs": [
    {
     "data": {
      "text/plain": [
       "30630.969549844973"
      ]
     },
     "execution_count": 11,
     "metadata": {},
     "output_type": "execute_result"
    }
   ],
   "source": [
    "seq_depth"
   ]
  },
  {
   "cell_type": "code",
   "execution_count": null,
   "id": "c4a3f7c5-bb4b-4158-b781-4e6897ecce72",
   "metadata": {
    "scrolled": true
   },
   "outputs": [
    {
     "name": "stderr",
     "output_type": "stream",
     "text": [
      "/scratch/hr2547/myenv/lib64/python3.9/site-packages/pymc/data.py:434: UserWarning: The `mutable` kwarg was not specified. Before v4.1.0 it defaulted to `pm.Data(mutable=True)`, which is equivalent to using `pm.MutableData()`. In v4.1.0 the default changed to `pm.Data(mutable=False)`, equivalent to `pm.ConstantData`. Use `pm.ConstantData`/`pm.MutableData` or pass `pm.Data(..., mutable=False/True)` to avoid this warning.\n",
      "  warnings.warn(\n",
      "/scratch/hr2547/myenv/lib64/python3.9/site-packages/pytensor/tensor/rewriting/elemwise.py:1030: UserWarning: Loop fusion failed because the resulting node would exceed the kernel argument limit.\n",
      "  warn(\n"
     ]
    },
    {
     "data": {
      "text/html": [
       "\n",
       "<style>\n",
       "    /* Turns off some styling */\n",
       "    progress {\n",
       "        /* gets rid of default border in Firefox and Opera. */\n",
       "        border: none;\n",
       "        /* Needs to be in here for Safari polyfill so background images work as expected. */\n",
       "        background-size: auto;\n",
       "    }\n",
       "    progress:not([value]), progress:not([value])::-webkit-progress-bar {\n",
       "        background: repeating-linear-gradient(45deg, #7e7e7e, #7e7e7e 10px, #5c5c5c 10px, #5c5c5c 20px);\n",
       "    }\n",
       "    .progress-bar-interrupted, .progress-bar-interrupted::-webkit-progress-bar {\n",
       "        background: #F44336;\n",
       "    }\n",
       "</style>\n"
      ],
      "text/plain": [
       "<IPython.core.display.HTML object>"
      ]
     },
     "metadata": {},
     "output_type": "display_data"
    },
    {
     "data": {
      "text/html": [
       "\n",
       "    <div>\n",
       "      <progress value='22361' class='' max='300000' style='width:300px; height:20px; vertical-align: middle;'></progress>\n",
       "      7.45% [22361/300000 28:45&lt;5:57:06 Average Loss = 63.23]\n",
       "    </div>\n",
       "    "
      ],
      "text/plain": [
       "<IPython.core.display.HTML object>"
      ]
     },
     "metadata": {},
     "output_type": "display_data"
    }
   ],
   "source": [
    "with pm.Model() as model_vi:\n",
    "    # ---- Mini-batched Inputs ----\n",
    "    # gene_indices aligns each observation to a gene index (0..n_genes-1)\n",
    "    # condition_indices aligns each observation to a condition index (0..n_conditions-1)\n",
    "    gene_idx = np.repeat(np.arange(n_genes), n_conditions)\n",
    "    cond_idx = np.tile(np.arange(n_conditions), n_genes)\n",
    "    obs_flat = observed_counts.flatten()\n",
    "    gene_lengths_flat = gene_lengths[gene_idx]\n",
    "\n",
    "    minibatch_obs = pm.Minibatch(obs_flat, batch_size=128)\n",
    "    minibatch_gene_idx = pm.Minibatch(gene_idx, batch_size=128)\n",
    "    minibatch_cond_idx = pm.Minibatch(cond_idx, batch_size=128)\n",
    "    minibatch_gene_lengths = pm.Minibatch(gene_lengths_flat, batch_size=128)\n",
    "\n",
    "    # Constants\n",
    "    seq_depth_shared = pm.Data(\"seq_depth\", np.array([seq_depth]))\n",
    "\n",
    "    # ---- Non-centered Parameterization ----\n",
    "    mu_gene = pm.Normal(\"mu_gene\", mu=2.0, sigma=1.0)\n",
    "    sigma_gene = pm.HalfNormal(\"sigma_gene\", sigma=1.0)\n",
    "    z_gene = pm.Normal(\"z_gene\", mu=0, sigma=1, shape=n_genes)\n",
    "    gene_log_expression = pm.Deterministic(\"gene_log_expression\", mu_gene + sigma_gene * z_gene)\n",
    "\n",
    "    mu_cond = pm.Normal(\"mu_cond\", mu=0.0, sigma=1.0)\n",
    "    sigma_cond = pm.HalfNormal(\"sigma_cond\", sigma=1.0)\n",
    "    z_cond = pm.Normal(\"z_cond\", mu=0, sigma=1, shape=n_conditions)\n",
    "    condition_intercepts_log = pm.Deterministic(\"condition_intercepts_log\", mu_cond + sigma_cond * z_cond)\n",
    "\n",
    "    # Dispersion\n",
    "    alpha = pm.HalfCauchy(\"alpha\", beta=2)\n",
    "\n",
    "    # ---- Compute minibatch mu ----\n",
    "    log_mu = gene_log_expression[minibatch_gene_idx] + condition_intercepts_log[minibatch_cond_idx]\n",
    "    log_mu += pm.math.log(seq_depth_shared[0] / ref_seq_depth)\n",
    "    log_mu += pm.math.log(minibatch_gene_lengths / ref_gene_length)\n",
    "    mu = pm.math.exp(log_mu)\n",
    "\n",
    "    # ---- Minibatch Likelihood ----\n",
    "    pm.NegativeBinomial(\"obs\", mu=mu, alpha=alpha, observed=minibatch_obs)\n",
    "\n",
    "    # ---- Fit with VI ----\n",
    "    approx = pm.fit(\n",
    "        n=300_000,\n",
    "        method='advi',\n",
    "        callbacks=[pm.callbacks.CheckParametersConvergence(tolerance=0.01)],\n",
    "        progressbar=True\n",
    "    )\n",
    "\n",
    "    trace_vi = approx.sample(draws=1000)\n"
   ]
  },
  {
   "cell_type": "code",
   "execution_count": null,
   "id": "e1fade92-1005-47fa-a3ba-432b11ab3f69",
   "metadata": {},
   "outputs": [],
   "source": [
    "az.summary(trace_vi)"
   ]
  },
  {
   "cell_type": "code",
   "execution_count": null,
   "id": "4d7ff4a3-9f2d-4128-8124-9f722390b829",
   "metadata": {},
   "outputs": [],
   "source": [
    "# --------------------------\n",
    "# ELBO Plot for VI\n",
    "# --------------------------\n",
    "plt.plot(approx.hist)\n",
    "plt.title(\"ELBO Loss Curve (VI)\")\n",
    "plt.xlabel(\"Iteration\")\n",
    "plt.ylabel(\"ELBO\")\n",
    "plt.tight_layout()\n",
    "plt.show()"
   ]
  },
  {
   "cell_type": "code",
   "execution_count": null,
   "id": "71af96a0-b6b9-4317-b8c4-459dd61abed5",
   "metadata": {},
   "outputs": [],
   "source": []
  }
 ],
 "metadata": {
  "kernelspec": {
   "display_name": "Python (myenv)",
   "language": "python",
   "name": "myenv"
  },
  "language_info": {
   "codemirror_mode": {
    "name": "ipython",
    "version": 3
   },
   "file_extension": ".py",
   "mimetype": "text/x-python",
   "name": "python",
   "nbconvert_exporter": "python",
   "pygments_lexer": "ipython3",
   "version": "3.9.16"
  }
 },
 "nbformat": 4,
 "nbformat_minor": 5
}
